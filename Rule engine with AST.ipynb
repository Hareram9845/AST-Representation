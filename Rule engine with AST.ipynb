{
 "cells": [
  {
   "cell_type": "code",
   "execution_count": null,
   "metadata": {},
   "outputs": [],
   "source": [
    "#1. Data Structure (AST)"
   ]
  },
  {
   "cell_type": "code",
   "execution_count": null,
   "metadata": {},
   "outputs": [],
   "source": [
    "class Node:\n",
    "    def __init__(self, node_type, left=None, right=None, value=None):\n",
    "        self.type = node_type  # 'operator' or 'operand'\n",
    "        self.left = left  # Left child node\n",
    "        self.right = right  # Right child node\n",
    "        self.value = value  # Operand value, e.g., 'age > 30' or 'AND'\n",
    "\n",
    "    def __repr__(self):\n",
    "        if self.type == 'operator':\n",
    "            return f\"({self.left} {self.value} {self.right})\"\n",
    "        else:\n",
    "            return f\"{self.value}\"\n"
   ]
  },
  {
   "cell_type": "code",
   "execution_count": null,
   "metadata": {},
   "outputs": [],
   "source": [
    "#Data stroage using SQLITE"
   ]
  },
  {
   "cell_type": "code",
   "execution_count": null,
   "metadata": {},
   "outputs": [],
   "source": [
    "CREATE TABLE rules (\n",
    "    id INTEGER PRIMARY KEY AUTOINCREMENT,\n",
    "    rule_string TEXT NOT NULL,\n",
    "    ast TEXT\n",
    ");\n"
   ]
  },
  {
   "cell_type": "code",
   "execution_count": null,
   "metadata": {},
   "outputs": [],
   "source": [
    "#API Design"
   ]
  },
  {
   "cell_type": "code",
   "execution_count": null,
   "metadata": {},
   "outputs": [],
   "source": [
    "import re\n",
    "\n",
    "def create_rule(rule_string):\n",
    "    tokens = re.split(r'(\\(|\\)|\\s+)', rule_string)\n",
    "    tokens = [token for token in tokens if token.strip() != '']\n",
    "    \n",
    "    def parse_expression(tokens):\n",
    "        stack = []\n",
    "        while tokens:\n",
    "            token = tokens.pop(0)\n",
    "            if token == '(':\n",
    "                stack.append(parse_expression(tokens))\n",
    "            elif token == ')':\n",
    "                break\n",
    "            else:\n",
    "                stack.append(token)\n",
    "        return build_ast(stack)\n",
    "\n",
    "    def build_ast(tokens):\n",
    "        if len(tokens) == 1:\n",
    "            return Node('operand', value=tokens[0])\n",
    "        if 'AND' in tokens or 'OR' in tokens:\n",
    "            op = 'AND' if 'AND' in tokens else 'OR'\n",
    "            i = tokens.index(op)\n",
    "            return Node('operator', left=build_ast(tokens[:i]), right=build_ast(tokens[i+1:]), value=op)\n",
    "        return None\n",
    "    \n",
    "    return parse_expression(tokens)\n"
   ]
  },
  {
   "cell_type": "code",
   "execution_count": null,
   "metadata": {},
   "outputs": [],
   "source": [
    "def combine_rules(rule_strings, operator='AND'):\n",
    "    asts = [create_rule(rule) for rule in rule_strings]\n",
    "    if len(asts) == 1:\n",
    "        return asts[0]\n",
    "    \n",
    "    root = asts[0]\n",
    "    for ast in asts[1:]:\n",
    "        root = Node('operator', left=root, right=ast, value=operator)\n",
    "    return root\n"
   ]
  },
  {
   "cell_type": "code",
   "execution_count": null,
   "metadata": {},
   "outputs": [],
   "source": [
    "#evaluate rule"
   ]
  },
  {
   "cell_type": "code",
   "execution_count": null,
   "metadata": {},
   "outputs": [],
   "source": [
    "def evaluate_rule(ast, data):\n",
    "    if ast.type == 'operator':\n",
    "        if ast.value == 'AND':\n",
    "            return evaluate_rule(ast.left, data) and evaluate_rule(ast.right, data)\n",
    "        elif ast.value == 'OR':\n",
    "            return evaluate_rule(ast.left, data) or evaluate_rule(ast.right, data)\n",
    "    else:\n",
    "        # Example: \"age > 30\" -> split and evaluate\n",
    "        key, operator, value = re.split(r'([><=]+)', ast.value)\n",
    "        key = key.strip()\n",
    "        value = int(value.strip())\n",
    "        if operator == '>':\n",
    "            return data[key] > value\n",
    "        elif operator == '<':\n",
    "            return data[key] < value\n",
    "        elif operator == '=':\n",
    "            return data[key] == value\n",
    "        return False\n"
   ]
  },
  {
   "cell_type": "code",
   "execution_count": null,
   "metadata": {},
   "outputs": [],
   "source": [
    "#sample testcases"
   ]
  },
  {
   "cell_type": "code",
   "execution_count": null,
   "metadata": {},
   "outputs": [],
   "source": [
    "rule1_string = \"((age > 30 AND department = 'Sales') OR (age < 25 AND department = 'Marketing')) AND (salary > 50000 OR experience > 5)\"\n",
    "rule1_ast = create_rule(rule1_string)\n",
    "print(rule1_ast)\n"
   ]
  },
  {
   "cell_type": "code",
   "execution_count": null,
   "metadata": {},
   "outputs": [],
   "source": [
    "#combined rule"
   ]
  },
  {
   "cell_type": "code",
   "execution_count": null,
   "metadata": {},
   "outputs": [],
   "source": [
    "rule2_string = \"((age > 30 AND department = 'Marketing')) AND (salary > 20000 OR experience > 5)\"\n",
    "combined_ast = combine_rules([rule1_string, rule2_string], operator='AND')\n",
    "print(combined_ast)\n"
   ]
  },
  {
   "cell_type": "code",
   "execution_count": null,
   "metadata": {},
   "outputs": [],
   "source": [
    "#test evaluation"
   ]
  },
  {
   "cell_type": "code",
   "execution_count": null,
   "metadata": {},
   "outputs": [],
   "source": [
    "data1 = {\"age\": 35, \"department\": \"Sales\", \"salary\": 60000, \"experience\": 3}\n",
    "data2 = {\"age\": 24, \"department\": \"Marketing\", \"salary\": 25000, \"experience\": 2}\n",
    "\n",
    "print(evaluate_rule(rule1_ast, data1))  # Should return True\n",
    "print(evaluate_rule(rule1_ast, data2))  # Should return False\n"
   ]
  },
  {
   "cell_type": "code",
   "execution_count": null,
   "metadata": {},
   "outputs": [],
   "source": [
    "#error handling"
   ]
  },
  {
   "cell_type": "code",
   "execution_count": null,
   "metadata": {},
   "outputs": [],
   "source": [
    "def validate_rule_string(rule_string):\n",
    "    # Basic checks for malformed rules (e.g., unmatched parentheses, invalid operators)\n",
    "    pass\n",
    "\n",
    "def validate_attributes(data):\n",
    "    # Validate if attributes in data match a predefined catalog of attributes\n",
    "    pass\n"
   ]
  }
 ],
 "metadata": {
  "language_info": {
   "name": "python"
  }
 },
 "nbformat": 4,
 "nbformat_minor": 2
}
